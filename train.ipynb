{
 "cells": [
  {
   "cell_type": "code",
   "execution_count": null,
   "metadata": {},
   "outputs": [],
   "source": [
    "# set the matplotlib backend so figures can be saved in the background\n",
    "import matplotlib as plt\n",
    "plt.use(\"Agg\")\n",
    "\n",
    "import logging\n",
    "logging.getLogger('tensorflow').setLevel(logging.CRITICAL)"
   ]
  },
  {
   "cell_type": "code",
   "execution_count": null,
   "metadata": {},
   "outputs": [],
   "source": [
    "\n",
    "from models import minigooglenet_functional\n",
    "from models import MiniVGGNetModel\n",
    "from models import shallownet_sequential\n",
    "\n",
    "from sklearn.preprocessing import LabelBinarizer\n",
    "from sklearn.metrics import classification_report\n",
    "from tensorflow.keras.preprocessing.image import ImageDataGenerator\n",
    "from tensorflow.keras.optimizers import SGD\n",
    "from tensorflow.keras.datasets import cifar10\n",
    "import numpy as np\n",
    "import argparse"
   ]
  },
  {
   "cell_type": "code",
   "execution_count": null,
   "metadata": {},
   "outputs": [],
   "source": [
    "#construct the argument parser and parse the arguamnts\n",
    "'''\n",
    "Two command line arguments include:\n",
    "\n",
    "- --model : one of the given choices\n",
    "    choices=`['sequential','functional','class']`\n",
    "- --plot : The path to the output plot image file.\n",
    "'''\n",
    "# construct the argument parser and parse the arguments\n",
    "ap = argparse.ArgumentParser()\n",
    "ap.add_argument(\"-m\", \"--model\", type=str, default=\"sequential\",choices=[\"sequential\", \"functional\", \"class\"],help=\"type of model architecture\")\n",
    "ap.add_argument(\"-p\", \"--plot\", type=str, required=True,help=\"Path to plot the output\")\n",
    "args = vars(ap.parse_args())\n",
    "'''\n",
    "ap=argparse.ArgumentParser()\n",
    "ap.add_argument('-m','--model',type=str,default='sequential',\n",
    "               choices=['sequential','functional','class'],\n",
    "               help='Type of model architecture')\n",
    "ap.add_argument('-p','--plot',type=str,required=True,\n",
    "                help='..\\kerasModelCreation\\output')\n",
    "args=vars(ap.parse_args())\n",
    "'''"
   ]
  },
  {
   "cell_type": "markdown",
   "metadata": {},
   "source": [
    "Now remaining tasks are:\n",
    "1. Intialize a number of hyperparameters\n",
    "2. Prepare our data\n",
    "3. Construct data augmentation object"
   ]
  },
  {
   "cell_type": "code",
   "execution_count": null,
   "metadata": {},
   "outputs": [],
   "source": [
    "# initialize the initial learning rate, batch size, and number of epochs to train for\n",
    "INIT_LR = 1e-2\n",
    "BATCH_SIZE = 128\n",
    "NUM_EPOCHS = 60\n",
    "\n",
    "# initialize the label names for the CIFAR-10 dataset\n",
    "labelNames = [\"airplane\", \"automobile\", \"bird\", \"cat\", \"deer\", \"dog\",\"frog\", \"horse\", \"ship\", \"truck\"]\n",
    "\n",
    "# load the CIFAR-10 dataset\n",
    "print(\"[INFO] loading CIFAR-10 dataset...\")\n",
    "((trainX, trainY), (testX, testY)) = cifar10.load_data()\n",
    "\n",
    "# scale the data to the range [0, 1]\n",
    "trainX = trainX.astype(\"float32\") / 255.0\n",
    "testX = testX.astype(\"float32\") / 255.0\n",
    "\n",
    "# convert the labels from integers to vectors\n",
    "lb=LabelBinarizer()\n",
    "trainY=lb.fit_transform(trainY)\n",
    "testY=lb.transform(testY)\n",
    "\n",
    "#construct the image generator for data augmentation\n",
    "aug= ImageDataGenerator(rotation_range=18,zoom_range=0.15,\n",
    "                      width_shift_range=0.2,height_shift_range=0.2,\n",
    "                      shear_range=0.15,horizontal_flip=True,fill_mode='nearest')\n"
   ]
  },
  {
   "cell_type": "markdown",
   "metadata": {},
   "source": [
    "### Instantiate the model"
   ]
  },
  {
   "cell_type": "code",
   "execution_count": null,
   "metadata": {},
   "outputs": [],
   "source": [
    "#Check to see if we are using a keras sequntial model\n",
    "if args['model']=='sequential':\n",
    "    # instantiate a Keras Sequential model\n",
    "    print(\"[INFO] using sequential model...\")\n",
    "    model = shallownet_sequential(32, 32, 3, len(labelNames))\n",
    "    \n",
    "elif args['model']=='functional':\n",
    "    # instantiate a Keras Functional model\n",
    "    print(\"[INFO] using functional model...\")\n",
    "    model = minigooglenet_functional(32, 32, 3, len(labelNames))\n",
    "    \n",
    "elif args['model']=='class':\n",
    "    # instantiate a Keras Model sub-class model\n",
    "    print(\"[INFO] using model sub-classing...\")\n",
    "    model = MiniVGGNetModel(len(labelNames))\n",
    " \n"
   ]
  },
  {
   "cell_type": "code",
   "execution_count": null,
   "metadata": {},
   "outputs": [],
   "source": [
    "#intialize the optimizer and compile the model\n",
    "opt=SGD(lr=INIT_LR,momentum=0.9,decay=INIT_LR/NUM_EPOCHS)\n",
    "print('[INFO] training network..')\n",
    "model.compile(loss='categorical_crossentropy',optimizer=opt,metrics=['accuracy'])\n",
    "\n",
    "#train the network using keras' fit_generator method to handle data augmentation\n",
    "H=model.fit_generator(aug.flow(trainX,trainY,batch_size=BATCH_SIZE),\n",
    "                     validation_data=(testX,testY),\n",
    "                     steps_per_epoch=trainX.shape[0]//BATCH_SIZE,\n",
    "                     epochs=NUM_EPOCHS,\n",
    "                     verbose=1)"
   ]
  },
  {
   "cell_type": "markdown",
   "metadata": {},
   "source": [
    "### Evaluating model our history and plotting the training history"
   ]
  },
  {
   "cell_type": "code",
   "execution_count": null,
   "metadata": {},
   "outputs": [],
   "source": [
    "#evaluate the network\n",
    "print('[INFO] evaluating network...')\n",
    "predictions=model.predict(testX,batch_size=BATCH_SIZE)\n",
    "print(classification_report(testY.argmax(axis=1),\n",
    "                           predictions.argmax(axis=1),\n",
    "                           target_names=labelNames))\n",
    "\n",
    "# determine the number of epochs and then construct the plot title\n",
    "N = np.arange(0, NUM_EPOCHS)\n",
    "title = \"Training Loss and Accuracy on CIFAR-10 ({})\".format(args[\"model\"])\n",
    "# plot the training loss and accuracy\n",
    "plt.style.use(\"ggplot\")\n",
    "plt.figure()\n",
    "plt.plot(N, H.history[\"loss\"], label=\"train_loss\")\n",
    "plt.plot(N, H.history[\"val_loss\"], label=\"val_loss\")\n",
    "plt.plot(N, H.history[\"accuracy\"], label=\"train_acc\")\n",
    "plt.plot(N, H.history[\"val_accuracy\"], label=\"val_acc\")\n",
    "plt.title(title)\n",
    "plt.xlabel(\"Epoch #\")\n",
    "plt.ylabel(\"Loss/Accuracy\")\n",
    "plt.legend()\n",
    "plt.savefig(args[\"plot\"])"
   ]
  },
  {
   "cell_type": "code",
   "execution_count": null,
   "metadata": {},
   "outputs": [],
   "source": []
  }
 ],
 "metadata": {
  "kernelspec": {
   "display_name": "Python 3",
   "language": "python",
   "name": "python3"
  },
  "language_info": {
   "codemirror_mode": {
    "name": "ipython",
    "version": 3
   },
   "file_extension": ".py",
   "mimetype": "text/x-python",
   "name": "python",
   "nbconvert_exporter": "python",
   "pygments_lexer": "ipython3",
   "version": "3.8.0"
  }
 },
 "nbformat": 4,
 "nbformat_minor": 4
}
